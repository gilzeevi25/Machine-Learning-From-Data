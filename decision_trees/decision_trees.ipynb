{
 "cells": [
  {
   "cell_type": "markdown",
   "metadata": {
    "nbgrader": {
     "grade": false,
     "grade_id": "cell-6bd0516e7cb654f5",
     "locked": true,
     "schema_version": 1,
     "solution": false
    }
   },
   "source": [
    "# Exercise 2: Decision Trees\n",
    "\n",
    "In this assignment you will implement a Decision Tree algorithm as learned in class.\n",
    "\n",
    "## Read the following instructions carefully:\n",
    "\n",
    "1. This jupyter notebook contains all the step by step instructions needed for this exercise.\n",
    "1. Submission includes this notebook only with the exercise number and your ID as the filename. For example: `hw2_123456789_987654321.ipynb` if you submitted in pairs and `hw2_123456789.ipynb` if you submitted the exercise alone.\n",
    "1. Write **efficient vectorized** code whenever possible. Some calculations in this exercise take several minutes when implemented efficiently, and might take much longer otherwise. Unnecessary loops will result in point deduction.\n",
    "1. You are responsible for the correctness of your code and should add as many tests as you see fit. Tests will not be graded nor checked.\n",
    "1. Write your functions in this notebook only. **Do not create Python modules and import them**.\n",
    "1. You are allowed to use functions and methods from the [Python Standard Library](https://docs.python.org/3/library/) and [numpy](https://www.numpy.org/devdocs/reference/) only. **Do not import anything else.**\n",
    "1. Your code must run without errors. Make sure your `numpy` version is at least 1.15.4 and that you are using at least python 3.6. Changes of the configuration we provided are at your own risk. Any code that cannot run will not be graded.\n",
    "1. Write your own code. Cheating will not be tolerated.\n",
    "1. Answers to qualitative questions should be written in **markdown** cells (with $\\LaTeX$ support). Answers that will be written in commented code blocks will not be checked.\n",
    "\n",
    "## In this exercise you will perform the following:\n",
    "1. Practice OOP in python.\n",
    "2. Implement two impurity measures: Gini and Entropy.\n",
    "3. Construct a decision tree algorithm.\n",
    "4. Prune the tree to achieve better results.\n",
    "5. Visualize your results."
   ]
  },
  {
   "cell_type": "markdown",
   "metadata": {},
   "source": [
    "# I have read and understood the instructions: ***  *** 203909320 , 311132468 *** ***"
   ]
  },
  {
   "cell_type": "code",
   "execution_count": 1,
   "metadata": {
    "nbgrader": {
     "grade": false,
     "grade_id": "cell-ed9fe7b1026e33cb",
     "locked": true,
     "schema_version": 1,
     "solution": false
    }
   },
   "outputs": [],
   "source": [
    "import numpy as np\n",
    "import pandas as pd\n",
    "import matplotlib.pyplot as plt\n",
    "\n",
    "# make matplotlib figures appear inline in the notebook\n",
    "%matplotlib inline\n",
    "plt.rcParams['figure.figsize'] = (10.0, 8.0) # set default size of plots\n",
    "plt.rcParams['image.interpolation'] = 'nearest'\n",
    "plt.rcParams['image.cmap'] = 'gray'\n",
    "\n",
    "# Ignore warnings\n",
    "import warnings\n",
    "warnings.filterwarnings('ignore')"
   ]
  },
  {
   "cell_type": "markdown",
   "metadata": {
    "nbgrader": {
     "grade": false,
     "grade_id": "cell-c6ac605270c2b091",
     "locked": true,
     "schema_version": 1,
     "solution": false
    }
   },
   "source": [
    "## Warmup - OOP in python\n",
    "\n",
    "Our desicion tree will be implemented using a dedicated python class. Python classes are very similar to classes in Java.\n",
    "\n",
    "\n",
    "You can use the following [site](https://jeffknupp.com/blog/2014/06/18/improve-your-python-python-classes-and-object-oriented-programming/) to learn about classes in python."
   ]
  },
  {
   "cell_type": "code",
   "execution_count": 2,
   "metadata": {},
   "outputs": [],
   "source": [
    "class Node(object):\n",
    "    def __init__(self, data):\n",
    "        self.data = data\n",
    "        self.children = []\n",
    "\n",
    "    def add_child(self, node):\n",
    "        self.children.append(node)"
   ]
  },
  {
   "cell_type": "code",
   "execution_count": 3,
   "metadata": {},
   "outputs": [
    {
     "data": {
      "text/plain": [
       "[<__main__.Node at 0x1d57e87e340>, <__main__.Node at 0x1d57e86b1f0>]"
      ]
     },
     "execution_count": 3,
     "metadata": {},
     "output_type": "execute_result"
    }
   ],
   "source": [
    "n = Node(5)\n",
    "p = Node(6)\n",
    "q = Node(7)\n",
    "n.add_child(p)\n",
    "n.add_child(q)\n",
    "n.children"
   ]
  },
  {
   "cell_type": "markdown",
   "metadata": {
    "nbgrader": {
     "grade": false,
     "grade_id": "cell-2f1ceb251c649b62",
     "locked": true,
     "schema_version": 1,
     "solution": false
    }
   },
   "source": [
    "## Data preprocessing\n",
    "\n",
    "For the following exercise, we will use a dataset containing mushroom data `agaricus-lepiota.csv`. \n",
    "\n",
    "This data set includes descriptions of hypothetical samples corresponding to 23 species of gilled mushrooms in the Agaricus and Lepiota Family. Each species is identified as definitely edible, definitely poisonous, or of unknown edibility and not recommended. This latter class was combined with the poisonous\n",
    "one (=there are only two classes **edible** and **poisonous**). \n",
    "    \n",
    "The dataset contains 8124 observations with 22 features:\n",
    "1. cap-shape: bell=b,conical=c,convex=x,flat=f,knobbed=k,sunken=s\n",
    "2. cap-surface: fibrous=f,grooves=g,scaly=y,smooth=s\n",
    "3. cap-color: brown=n,buff=b,cinnamon=c,gray=g,green=r,pink=p,purple=u,red=e,white=w,yellow=y\n",
    "4. bruises: bruises=t,no=f\n",
    "5. odor: almond=a,anise=l,creosote=c,fishy=y,foul=f, musty=m,none=n,pungent=p,spicy=s\n",
    "6. gill-attachment: attached=a,descending=d,free=f,notched=n\n",
    "7. gill-spacing: close=c,crowded=w,distant=d\n",
    "8. gill-size: broad=b,narrow=n\n",
    "9. gill-color: black=k,brown=n,buff=b,chocolate=h,gray=g,green=r,orange=o,pink=p,purple=u,red=e,white=w,yellow=y\n",
    "10. stalk-shape: enlarging=e,tapering=t\n",
    "11. stalk-root: bulbous=b,club=c,cup=u,equal=e,rhizomorphs=z,rooted=r\n",
    "12. stalk-surface-above-ring: fibrous=f,scaly=y,silky=k,smooth=s\n",
    "13. stalk-surface-below-ring: fibrous=f,scaly=y,silky=k,smooth=s\n",
    "14. stalk-color-above-ring: brown=n,buff=b,cinnamon=c,gray=g,orange=o,pink=p,red=e,white=w,yellow=y\n",
    "15. stalk-color-below-ring: brown=n,buff=b,cinnamon=c,gray=g,orange=o,pink=p,red=e,white=w,yellow=y\n",
    "16. veil-type: partial=p,universal=u\n",
    "17. veil-color: brown=n,orange=o,white=w,yellow=y\n",
    "18. ring-number: none=n,one=o,two=t\n",
    "19. ring-type: cobwebby=c,evanescent=e,flaring=f,large=l,none=n,pendant=p,sheathing=s,zone=z\n",
    "20. spore-print-color: black=k,brown=n,buff=b,chocolate=h,green=r,orange=o,purple=u,white=w,yellow=y\n",
    "21. population: abundant=a,clustered=c,numerous=n,scattered=s,several=v,solitary=y\n",
    "22. habitat: grasses=g,leaves=l,meadows=m,paths=p,urban=u,waste=w,woods=d\n",
    "\n",
    "First, we will read and explore the data using pandas and the `.read_csv` method. Pandas is an open source library providing high-performance, easy-to-use data structures and data analysis tools for the Python programming language."
   ]
  },
  {
   "cell_type": "code",
   "execution_count": 4,
   "metadata": {
    "nbgrader": {
     "grade": false,
     "grade_id": "cell-d79cb4542926ad3f",
     "locked": true,
     "schema_version": 1,
     "solution": false
    }
   },
   "outputs": [],
   "source": [
    "# load dataset\n",
    "import pandas as pd\n",
    "data = pd.read_csv('agaricus-lepiota.csv')"
   ]
  },
  {
   "cell_type": "markdown",
   "metadata": {},
   "source": [
    "One of the advantages of the Decision Tree algorithm is that almost no preprocessing is required. However, finding missing values is always required."
   ]
  },
  {
   "cell_type": "code",
   "execution_count": 5,
   "metadata": {},
   "outputs": [],
   "source": [
    "#############################################################################\n",
    "# TODO: Find the columns with missing values and remove them from the data.#\n",
    "#############################################################################\n",
    "data.dropna(axis=1,inplace = True)\n",
    "#############################################################################\n",
    "#                             END OF YOUR CODE                              #\n",
    "#############################################################################"
   ]
  },
  {
   "cell_type": "markdown",
   "metadata": {},
   "source": [
    "We will split the dataset to `Training` and `Testing` datasets."
   ]
  },
  {
   "cell_type": "code",
   "execution_count": 6,
   "metadata": {},
   "outputs": [
    {
     "name": "stdout",
     "output_type": "stream",
     "text": [
      "Training dataset shape:  (6093, 22)\n",
      "Testing dataset shape:  (2031, 22)\n"
     ]
    }
   ],
   "source": [
    "from sklearn.model_selection import train_test_split\n",
    "# Making sure the last column will hold the labels\n",
    "X, y = data.drop('class', axis=1), data['class']\n",
    "X = np.column_stack([X,y])\n",
    "# split dataset using random_state to get the same split each time\n",
    "X_train, X_test = train_test_split(X, random_state=99)\n",
    "\n",
    "print(\"Training dataset shape: \", X_train.shape)\n",
    "print(\"Testing dataset shape: \", X_test.shape)"
   ]
  },
  {
   "cell_type": "code",
   "execution_count": 7,
   "metadata": {},
   "outputs": [
    {
     "data": {
      "text/plain": [
       "(8124,)"
      ]
     },
     "execution_count": 7,
     "metadata": {},
     "output_type": "execute_result"
    }
   ],
   "source": [
    "y.shape"
   ]
  },
  {
   "cell_type": "markdown",
   "metadata": {
    "nbgrader": {
     "grade": false,
     "grade_id": "cell-fd7b0191f3f1e897",
     "locked": true,
     "schema_version": 1,
     "solution": false
    }
   },
   "source": [
    "## Impurity Measures\n",
    "\n",
    "Impurity is a measure of how often a randomly chosen element from the set would be incorrectly labeled if it was randomly labeled according to the distribution of labels in the subset. Implement the functions `calc_gini` and `calc_entropy`. You are encouraged to test your implementation (10 points)."
   ]
  },
  {
   "cell_type": "code",
   "execution_count": 8,
   "metadata": {},
   "outputs": [],
   "source": [
    "def calc_gini(data):\n",
    "    \"\"\"\n",
    "    Calculate gini impurity measure of a dataset.\n",
    " \n",
    "    Input:\n",
    "    - data: any dataset where the last column holds the labels.\n",
    " \n",
    "    Returns the gini impurity.    \n",
    "    \"\"\"\n",
    "    gini = 0.0\n",
    "    ###########################################################################\n",
    "    # TODO: Implement the function.                                           #\n",
    "    ###########################################################################\n",
    "    p = (np.unique(data[:,-1], return_counts=True)[1]/data.shape[0])\n",
    "    gini = 1-(p**2).sum()\n",
    "    ###########################################################################\n",
    "    #                             END OF YOUR CODE                            #\n",
    "    ###########################################################################\n",
    "    return gini"
   ]
  },
  {
   "cell_type": "code",
   "execution_count": 9,
   "metadata": {},
   "outputs": [],
   "source": [
    "def calc_entropy(data):\n",
    "    \"\"\"\n",
    "    Calculate the entropy of a dataset.\n",
    "\n",
    "    Input:\n",
    "    - data: any dataset where the last column holds the labels.\n",
    "\n",
    "    Returns the entropy of the dataset.    \n",
    "    \"\"\"\n",
    "    entropy = 0.0\n",
    "    ###########################################################################\n",
    "    # TODO: Implement the function.                                           #\n",
    "    ###########################################################################\n",
    "    p = (np.unique(data[:,-1], return_counts=True)[1]/data.shape[0])\n",
    "    entropy = -np.dot(p,np.log2(p))\n",
    "    ###########################################################################\n",
    "    #                             END OF YOUR CODE                            #\n",
    "    ###########################################################################\n",
    "    return entropy"
   ]
  },
  {
   "cell_type": "code",
   "execution_count": 10,
   "metadata": {
    "scrolled": true
   },
   "outputs": [
    {
     "data": {
      "text/plain": [
       "(0.4995636322379775, 0.9993703627906085)"
      ]
     },
     "execution_count": 10,
     "metadata": {},
     "output_type": "execute_result"
    }
   ],
   "source": [
    "##### Your Tests Here #####\n",
    "calc_gini(X), calc_entropy(X)"
   ]
  },
  {
   "cell_type": "markdown",
   "metadata": {},
   "source": [
    "## Goodness of Split\n",
    "\n",
    "Given a feature the Goodnees of Split measures the reduction in the impurity if we split the data according to the feature.\n",
    "$$\n",
    "\\Delta\\varphi(S, A) = \\varphi(S) - \\sum_{v\\in Values(A)} \\frac{|S_v|}{|S|}\\varphi(S_v)\n",
    "$$\n",
    "\n",
    "In our implementation the goodness_of_split function will return either the Goodness of Split or the Gain Ratio as learned in class. You'll control the return value with the `gain_ratio` parameter. If this parameter will set to False (the default value) it will return the regular Goodness of Split. If it will set to True it will return the Gain Ratio.\n",
    "$$\n",
    "GainRatio(S,A)=\\frac{InformationGain(S,A)}{SplitInformation(S,A)}\n",
    "$$\n",
    "Where:\n",
    "$$\n",
    "InformationGain(S,A)=Goodness\\ of\\ Split\\ calculated\\ with\\ Entropy\\ as\\ the\\ Impurity\\ function \\\\\n",
    "SplitInformation(S,A)=- \\sum_{a\\in A} \\frac{|S_a|}{|S|}\\log\\frac{|S_a|}{|S|}\n",
    "$$\n",
    "NOTE: you can add more parameters to the function and you can also add more returning variables (The given parameters and the given returning variable should not be touch). (10 Points)"
   ]
  },
  {
   "cell_type": "code",
   "execution_count": 11,
   "metadata": {},
   "outputs": [],
   "source": [
    "def goodness_of_split(data, feature, impurity_func, gain_ratio=False):\n",
    "    \"\"\"\n",
    "    Calculate the goodness of split of a dataset given a feature and impurity function.\n",
    "\n",
    "    Input:\n",
    "    - data: any dataset where the last column holds the labels.\n",
    "    - feature: the feature index.\n",
    "    - impurity func: a function that calculates the impurity.\n",
    "    - gain_ratio: goodness of split or gain ratio flag.\n",
    "\n",
    "    Returns the goodness of split (or the Gain Ration).  \n",
    "    \"\"\"\n",
    "    ###########################################################################\n",
    "    # TODO: Implement the function.                                           #\n",
    "    ###########################################################################\n",
    "    if gain_ratio is True:\n",
    "        impurity_func = calc_entropy\n",
    "    wrk_data = data[:,[feature,-1]]\n",
    "    sv_s_grouped = wrk_data[np.argsort(wrk_data[:,0])]\n",
    "    sv_s_split = np.split(sv_s_grouped[:,1], np.unique(sv_s_grouped[:,0], return_index = True)[1])[1:]\n",
    "    impurity_sv = np.array([impurity_func(sv[:,None]) for sv in sv_s_split])\n",
    "    probs_sv = (np.unique(sv_s_grouped[:,0], return_counts=True)[1]/sv_s_grouped[:,0].shape[0])\n",
    "    goodness = (impurity_func(data) - np.dot(probs_sv,impurity_sv)) \n",
    "    if gain_ratio is True and goodness > 0.000001:\n",
    "        goodness/= calc_entropy(wrk_data[:,0][:,None])\n",
    "    ###########################################################################\n",
    "    #                             END OF YOUR CODE                            #\n",
    "    ###########################################################################\n",
    "    return goodness    "
   ]
  },
  {
   "cell_type": "markdown",
   "metadata": {},
   "source": [
    "## Building a Decision Tree\n",
    "\n",
    "Use a Python class to construct the decision tree. Your class should support the following functionality:\n",
    "\n",
    "1. Initiating a node for a decision tree. You will need to use several class methods and class attributes and you are free to use them as you see fit. We recommend that every node will hold the feature and value used for the split and its children.\n",
    "2. Your code should support both Gini and Entropy as impurity measures. \n",
    "3. The provided data includes categorical data. In this exercise, when splitting a node create the number of children needed according to the attribute unique values.\n",
    "\n",
    "Complete the class `DecisionNode`. The structure of this class is entirely up to you. \n",
    "\n",
    "Complete the function `build_tree`. This function should get the training dataset and the impurity as inputs, initiate a root for the decision tree and construct the tree according to the procedure you learned in class. (30 points)"
   ]
  },
  {
   "cell_type": "code",
   "execution_count": 12,
   "metadata": {},
   "outputs": [],
   "source": [
    "# We are using a helper class called Queue to use queue data structure in order to build decision tree and use later for BFS tree traversal\n",
    "class Queue:\n",
    "    def __init__(self):\n",
    "        self.items = []\n",
    "\n",
    "    def isEmpty(self):\n",
    "        return self.items == []\n",
    "\n",
    "    def enqueue(self, item):\n",
    "        self.items.insert(0,item)\n",
    "\n",
    "    def dequeue(self):\n",
    "        return self.items.pop()\n",
    "\n",
    "    def size(self):\n",
    "        return len(self.items)"
   ]
  },
  {
   "cell_type": "code",
   "execution_count": 13,
   "metadata": {},
   "outputs": [],
   "source": [
    "class DecisionNode:\n",
    "    \"\"\"\n",
    "    This class will hold everything you require to construct a decision tree.\n",
    "    The structure of this class is up to you. However, you need to support basic \n",
    "    functionality as described above. It is highly recommended that you \n",
    "    first read and understand the entire exercise before diving into this class.\n",
    "    \"\"\"\n",
    "    def __init__(self,feature,parent,depth,data,impurity,value,pred,height,chi_square,ind):\n",
    "        self.feature = feature # column index of criteria being tested\n",
    "        self.children = []\n",
    "        self.parent = parent\n",
    "        self.depth = depth\n",
    "        self.data = data\n",
    "        self.impurity = impurity\n",
    "        self.feature_val = value\n",
    "        self.pred = pred\n",
    "        self.root_height = height\n",
    "        self.chi_square = chi_square\n",
    "        self.index = ind\n",
    "        \n",
    "        \n",
    "    def add_child(self, node):\n",
    "        self.children.append(node)\n",
    "        \n",
    "    def calc_chi_square(self):\n",
    "        cat_data = self.data[[self.feature,self.data.columns[-1]]].to_numpy()\n",
    "        P_0 = (cat_data[:,-1]== 'e').sum()/(cat_data[:,-1].shape[0])\n",
    "        p_1 = (cat_data[:,-1]== 'p').sum()/(cat_data[:,-1].shape[0])\n",
    "        categories = np.unique(self.data[self.feature])\n",
    "        chi=0\n",
    "        for val in categories:\n",
    "            Df = (cat_data[:,0]== val).sum()\n",
    "            pf = ((cat_data[:,0] == val) & (cat_data[:,-1] == 'e')).sum()\n",
    "            nf = ((cat_data[:,0] == val) & (cat_data[:,-1] == 'p')).sum()\n",
    "            E0= Df * P_0; E1 = Df * p_1;\n",
    "            chi += ((pf - E0)**2)/E0 + ((nf - E1)**2)/E1\n",
    "        self.chi_square = chi"
   ]
  },
  {
   "cell_type": "code",
   "execution_count": 14,
   "metadata": {},
   "outputs": [],
   "source": [
    "def build_tree(data, impurity, gain_ratio=False, chi=1, max_depth=1000):\n",
    "    \"\"\"\n",
    "    Build a tree using the given impurity measure and training dataset. \n",
    "    You are required to fully grow the tree until all leaves are pure. \n",
    "\n",
    "    Input:\n",
    "    - data: the training dataset.\n",
    "    - impurity: the chosen impurity measure. Notice that you can send a function\n",
    "                as an argument in python.\n",
    "    - gain_ratio: goodness of split or gain ratio flag\n",
    "    - chi: chi square p-value cut off (1 means no pruning)\n",
    "    - max_depth: the allowable depth of the tree\n",
    "\n",
    "    Output: the root node of the tree.\n",
    "    \"\"\"\n",
    "    root = None\n",
    "    ###########################################################################\n",
    "    # TODO: Implement the function.                                           #\n",
    "    ###########################################################################\n",
    "    counter = 0\n",
    "    data = pd.DataFrame(data)\n",
    "    root = DecisionNode(None,None,0,data,None,\"ROOT\",None,None,None,counter)\n",
    "    q = Queue()\n",
    "    q.enqueue(root)\n",
    "    height = 0\n",
    "    while q.size() > 0: \n",
    "        node = q.dequeue()\n",
    "        height = max(node.depth,height)\n",
    "        clasfi, nums = np.unique(node.data.to_numpy()[:,-1], return_counts=True)\n",
    "        node.pred = clasfi[np.argmax(nums)] #predict the node's class based on maximal number of class occurances\n",
    "        if node.depth >= max_depth: \n",
    "            continue\n",
    "            \n",
    "        node.impurity = impurity(node.data.to_numpy())\n",
    "        if np.isclose(node.impurity,0): # check If training examples in node are perfectly classified\n",
    "            continue\n",
    "            \n",
    "        g_o_s = []\n",
    "        for i in range(node.data.columns.size-1): # finding the ”best” decision attribute for the set in node\n",
    "            g_o_s.append(goodness_of_split(node.data.to_numpy(),i,impurity,gain_ratio))\n",
    "            \n",
    "        if np.isclose(np.max(g_o_s),0): \n",
    "            continue \n",
    "        node.feature = node.data.columns[np.argmax(g_o_s)] #Assign the decision attribute for examined node\n",
    "        #check for chi square pruning:\n",
    "        DOF = np.unique(node.data[node.feature]).size - 1\n",
    "        if chi < 1 and DOF > 0:\n",
    "            node.calc_chi_square()\n",
    "            if chi_table[DOF][chi] > node.chi_square: # if true -> then prune! hence - dont create children\n",
    "                continue\n",
    "        d = node.depth\n",
    "        d+=1\n",
    "        for val in np.unique(node.data[node.feature]):\n",
    "            counter+=1\n",
    "            data_filtered = node.data[node.data[node.feature] == val]\n",
    "            data_filtered = data_filtered.drop([node.feature],axis = 1)\n",
    "            child = DecisionNode(None,node,d,data_filtered,None,val,None,None,None,counter)\n",
    "            node.add_child(child)\n",
    "            q.enqueue(child) \n",
    "    root.root_height = height #save the height of the tree\n",
    "    ###########################################################################\n",
    "    #                             END OF YOUR CODE                            #\n",
    "    ###########################################################################\n",
    "    return root"
   ]
  },
  {
   "cell_type": "code",
   "execution_count": 15,
   "metadata": {},
   "outputs": [],
   "source": [
    "# python supports passing a function as an argument to another function.\n",
    "tree_gini = build_tree(data=X_train, impurity=calc_gini) # gini and goodness of split\n",
    "tree_entropy = build_tree(data=X_train, impurity=calc_entropy) # entropy and goodness of split\n",
    "tree_entropy_gain_ratio = build_tree(data=X_train, impurity=calc_entropy, gain_ratio=True) # entropy and gain ratio"
   ]
  },
  {
   "cell_type": "markdown",
   "metadata": {},
   "source": [
    "## Tree evaluation\n",
    "\n",
    "Complete the functions `predict` and `calc_accuracy`. (10 points)"
   ]
  },
  {
   "cell_type": "code",
   "execution_count": 16,
   "metadata": {},
   "outputs": [],
   "source": [
    "def predict(node,instance):\n",
    "    \"\"\"\n",
    "    Predict a given instance using the decision tree\n",
    " \n",
    "    Input:\n",
    "    - root: the root of the decision tree.\n",
    "    - instance: an row vector from the dataset. Note that the last element \n",
    "                of this vector is the label of the instance.\n",
    " \n",
    "    Output: the prediction of the instance.\n",
    "    \"\"\"\n",
    "    pred = None\n",
    "    ###########################################################################\n",
    "    # TODO: Implement the function.                                           #\n",
    "    ###########################################################################\n",
    "    target_node = node\n",
    "    flag = 0\n",
    "    while len(target_node.children) > 0:\n",
    "        best_feature = target_node.feature\n",
    "        for child in target_node.children:\n",
    "            features = [child.feature_val for child in target_node.children]\n",
    "            if instance[best_feature] not in features:\n",
    "                flag = 1\n",
    "            if instance[best_feature] == child.feature_val:\n",
    "                target_node = child\n",
    "                break\n",
    "        if flag == 1:\n",
    "            break           \n",
    "    node = target_node\n",
    "    ###########################################################################\n",
    "    #                             END OF YOUR CODE                            #\n",
    "    ###########################################################################\n",
    "    return node.pred"
   ]
  },
  {
   "cell_type": "code",
   "execution_count": 17,
   "metadata": {},
   "outputs": [],
   "source": [
    "def calc_accuracy(node, dataset):\n",
    "    \"\"\"\n",
    "    Predict a given dataset using the decision tree\n",
    " \n",
    "    Input:\n",
    "    - node: a node in the decision tree.\n",
    "    - dataset: the dataset on which the accuracy is evaluated\n",
    " \n",
    "    Output: the accuracy of the decision tree on the given dataset (%).\n",
    "    \"\"\"\n",
    "    accuracy = 0\n",
    "    ###########################################################################\n",
    "    # TODO: Implement the function.                                           #\n",
    "    ###########################################################################\n",
    "    for row in dataset:\n",
    "        prediction = predict(node,row)\n",
    "        if prediction == row[-1]:\n",
    "            accuracy+=1\n",
    "    accuracy= (accuracy / len(dataset))*100\n",
    "    ###########################################################################\n",
    "    #                             END OF YOUR CODE                            #\n",
    "    ###########################################################################\n",
    "    return accuracy "
   ]
  },
  {
   "cell_type": "markdown",
   "metadata": {},
   "source": [
    "After building the three trees using the training set, you should calculate the accuracy on the test set. For each tree print the training and test accuracy. Select the tree that gave you the best test accuracy. For the rest of the exercise, use that tree (when you asked to build another tree use the same impurity function and same gain_ratio flag). "
   ]
  },
  {
   "cell_type": "code",
   "execution_count": 18,
   "metadata": {
    "scrolled": true
   },
   "outputs": [
    {
     "name": "stdout",
     "output_type": "stream",
     "text": [
      "decision tree using ##gini## with training set has 99.24503528639423% accuracy\n",
      "decision tree using ##gini## with test set has 77.49876907927128% accuracy\n",
      "\n",
      "**************************************************************************************************** \n",
      "\n",
      "decision tree using ##entropy## with training set has 99.40915805022156% accuracy\n",
      "decision tree using ##entropy## with test set has 77.25258493353027% accuracy\n",
      "\n",
      "**************************************************************************************************** \n",
      "\n",
      "decision tree using ##gain ratio## with training set has 99.63892991957984% accuracy\n",
      "decision tree using ##gain ratio## with test set has 78.53274249138356% accuracy\n",
      "\n",
      "**************************************************************************************************** \n",
      "\n",
      "The chosen tree with best accuracy is ##Gain ratio## which holds 78.533% accuracy\n"
     ]
    }
   ],
   "source": [
    "#### Your code here ####\n",
    "g_train= calc_accuracy(tree_gini,X_train); g_test = calc_accuracy(tree_gini,X_test);\n",
    "e_train = calc_accuracy(tree_entropy,X_train); e_test = calc_accuracy(tree_entropy,X_test);\n",
    "splt_train = calc_accuracy(tree_entropy_gain_ratio,X_train); splt_test = calc_accuracy(tree_entropy_gain_ratio,X_test)\n",
    "print(\"decision tree using ##gini## with training set has {0}% accuracy\".format(g_train))\n",
    "print(\"decision tree using ##gini## with test set has {0}% accuracy\\n\".format(g_test))\n",
    "print(\"*\"*100,\"\\n\")\n",
    "print(\"decision tree using ##entropy## with training set has {0}% accuracy\".format(e_train))\n",
    "print(\"decision tree using ##entropy## with test set has {0}% accuracy\\n\".format(e_test))\n",
    "print(\"*\"*100,\"\\n\")\n",
    "print(\"decision tree using ##gain ratio## with training set has {0}% accuracy\".format(splt_train))\n",
    "print(\"decision tree using ##gain ratio## with test set has {0}% accuracy\\n\".format(splt_test))\n",
    "print(\"*\"*100,\"\\n\")\n",
    "print(\"The chosen tree with best accuracy is ##{0}## which holds {1}% accuracy\".format(np.array([\"Gini\",\"Entropy\",\"Gain ratio\"])[np.argmax([g_test,e_test,splt_test])],np.round(np.max([g_test,e_test,splt_test]),3)))"
   ]
  },
  {
   "cell_type": "markdown",
   "metadata": {},
   "source": [
    "## Post pruning\n",
    "\n",
    "Iterate over all nodes in the tree that have at least a single child which is a leaf. For each such node, replace it with its most popular class. Calculate the accuracy on the testing dataset, pick the node that results in the highest testing accuracy and permanently change it in the tree. Repeat this process until you are left with a single node in the tree (the root). Finally, create a plot of the training and testing accuracies as a function of the number of nodes in the tree. (15 points)"
   ]
  },
  {
   "cell_type": "code",
   "execution_count": 19,
   "metadata": {},
   "outputs": [],
   "source": [
    "def count_nodes(node):\n",
    "    \"\"\"\n",
    "    Count the number of node in a given tree\n",
    " \n",
    "    Input:\n",
    "    - node: a node in the decision tree.\n",
    " \n",
    "    Output: the number of node in the tree.\n",
    "    \"\"\"\n",
    "    ###########################################################################\n",
    "    # TODO: Implement the function.                                           #\n",
    "    ###########################################################################\n",
    "    counter = 0\n",
    "    for child in node.children:\n",
    "        counter+=count_nodes(child)\n",
    "    return counter+1\n",
    "    ###########################################################################\n",
    "    #                             END OF YOUR CODE                            #\n",
    "    ###########################################################################\n",
    "    "
   ]
  },
  {
   "cell_type": "code",
   "execution_count": 20,
   "metadata": {},
   "outputs": [],
   "source": [
    "def bfs_traversal(tree):\n",
    "    '''Use BFS on a tree to return the nodes ordered by increasing depth\n",
    "       will allow me later to use deleteion in O(1) due to index matching of nodes in tree to this list, and refernce type accessing'''\n",
    "    visited = []\n",
    "    q = Queue()\n",
    "    q.enqueue(tree)\n",
    "    visited.append(tree)\n",
    "    while q.size() > 0: #apply bfs\n",
    "        node = q.dequeue()\n",
    "        for child in node.children:\n",
    "            if child not in visited:\n",
    "                visited.append(child)\n",
    "                q.enqueue(child)\n",
    "    return visited"
   ]
  },
  {
   "cell_type": "code",
   "execution_count": 21,
   "metadata": {},
   "outputs": [],
   "source": [
    "def pruning_with_bfs(tree,test):\n",
    "    '''Use BFS to traverse the tree by nodes increasing depth while performing post pruning\n",
    "        returns: dictionary canditates to prune where key is node index and item is the accuracy_value'''\n",
    "    acc_lst = {}\n",
    "    visited = []\n",
    "    q = Queue()\n",
    "    q.enqueue(tree)\n",
    "    visited.append(tree)\n",
    "    while q.size() > 0:\n",
    "        node = q.dequeue()\n",
    "        for child in node.children: #do bfs regulary\n",
    "                visited.append(child)\n",
    "                q.enqueue(child)\n",
    "        temp = 0       \n",
    "        for child in node.children: #but!! try pruning on the fly\n",
    "            if len(child.children) < 1:\n",
    "                tmp = node.children\n",
    "                node.children = []\n",
    "                acc_lst[node.index] = calc_accuracy(tree,test)\n",
    "                node.children = tmp\n",
    "                break\n",
    "\n",
    "    return acc_lst"
   ]
  },
  {
   "cell_type": "code",
   "execution_count": 22,
   "metadata": {},
   "outputs": [],
   "source": [
    "import copy\n",
    "def post_prune(train,test):\n",
    "    list_of_pruned_trees= {}\n",
    "    tree_entropy_gain_ratio = build_tree(data=train, impurity=calc_entropy, gain_ratio=True)\n",
    "    tree_toplot_train = {} ; tree_toplot_test = {}\n",
    "    first_count = count_nodes(tree_entropy_gain_ratio)\n",
    "    tree_toplot_train[first_count] = calc_accuracy(tree_entropy_gain_ratio,train)\n",
    "    tree_toplot_test[first_count] = calc_accuracy(tree_entropy_gain_ratio,test)\n",
    "    list_nodes = bfs_traversal(tree_entropy_gain_ratio)\n",
    "    \n",
    "    while len(tree_entropy_gain_ratio.children) > 0:\n",
    "        frst_iter = pruning_with_bfs(tree_entropy_gain_ratio,test)\n",
    "        key_to_prune = max(frst_iter, key=frst_iter.get)\n",
    "        list_nodes[key_to_prune].children = [] #taking advantage of python's refernced objects\n",
    "        count = count_nodes(tree_entropy_gain_ratio)\n",
    "        tree_toplot_train[count] = calc_accuracy(tree_entropy_gain_ratio,train)\n",
    "        tree_toplot_test[count] = frst_iter[key_to_prune]\n",
    "        list_of_pruned_trees[count] = copy.deepcopy(tree_entropy_gain_ratio)\n",
    "        \n",
    "    maxvalues = max(tree_toplot_test.values())\n",
    "    best_lowest_count = min([k for k, v in tree_toplot_test.items() if v == maxvalues])\n",
    "        \n",
    "    best_tree_count = list(tree_toplot_test.keys())[np.argmax(list(tree_toplot_test.values()))]\n",
    "    return tree_toplot_train,tree_toplot_test,list_of_pruned_trees[best_lowest_count]"
   ]
  },
  {
   "cell_type": "markdown",
   "metadata": {},
   "source": [
    "## Note to checker: our post prune function take approximately 6~7 minutes"
   ]
  },
  {
   "cell_type": "code",
   "execution_count": 23,
   "metadata": {},
   "outputs": [
    {
     "name": "stdout",
     "output_type": "stream",
     "text": [
      "Wall time: 6min 50s\n"
     ]
    }
   ],
   "source": [
    "%%time\n",
    "tree_toplot_train,tree_toplot_test,best_post_tree = post_prune(X_train,X_test)"
   ]
  },
  {
   "cell_type": "code",
   "execution_count": 24,
   "metadata": {},
   "outputs": [
    {
     "data": {
      "image/png": "[encoded data removed]",
      "text/plain": [
       "<Figure size 1440x648 with 1 Axes>"
      ]
     },
     "metadata": {
      "needs_background": "light"
     },
     "output_type": "display_data"
    }
   ],
   "source": [
    "maxvalues = max(tree_toplot_test.values())\n",
    "best_lowest_count = min([k for k, v in tree_toplot_test.items() if v == maxvalues]) \n",
    "plt.figure(figsize =(20,9))\n",
    "plt.plot(list(tree_toplot_train.keys()), list(tree_toplot_train.values()), label = \"Train accuracy\")\n",
    "plt.plot(list(tree_toplot_test.keys()), list(tree_toplot_test.values()), label = \"Test accuracy\")\n",
    "plt.scatter(best_lowest_count,tree_toplot_test[best_lowest_count], color = 'r',label = \"Best tree - {0} nodes\".format(best_lowest_count), linewidths = 20)\n",
    "plt.title(\"Accuracy as function of post pruning\", fontsize= 15)\n",
    "plt.xlabel(\"Tree nodes\",fontsize= 14)\n",
    "plt.ylabel(\"Accuracy[%]\", fontsize = 14)\n",
    "plt.legend()\n",
    "plt.grid()"
   ]
  },
  {
   "cell_type": "markdown",
   "metadata": {},
   "source": [
    "Note: we noticed that there are several cases for best accuracy so we chose the lowest nodes count tree"
   ]
  },
  {
   "cell_type": "markdown",
   "metadata": {},
   "source": [
    "## Chi square pre-pruning\n",
    "\n",
    "Consider the following p-value cut-off values: [1 (no pruning), 0.5, 0.25, 0.1, 0.05, 0.0001 (max pruning)]. For each value, construct a tree and prune it according to the cut-off value. Next, calculate the training and testing accuracy. On a single plot, draw the training and testing accuracy as a function of the tuple (p-value, tree depth). Mark the best result on the graph with red circle. (15 points)"
   ]
  },
  {
   "cell_type": "code",
   "execution_count": 25,
   "metadata": {},
   "outputs": [],
   "source": [
    "### Chi square table values ###\n",
    "# The first key is the degree of freedom \n",
    "# The second key is the p-value cut-off\n",
    "# The values are the chi-statistic that you need to use in the pruning\n",
    "chi_table = {1: {0.5 : 0.45,\n",
    "                 0.25 : 1.32,\n",
    "                 0.1 : 2.71,\n",
    "                 0.05 : 3.84,\n",
    "                 0.0001 : 100000},\n",
    "             2: {0.5 : 1.39,\n",
    "                 0.25 : 2.77,\n",
    "                 0.1 : 4.60,\n",
    "                 0.05 : 5.99,\n",
    "                 0.0001 : 100000},\n",
    "             3: {0.5 : 2.37,\n",
    "                 0.25 : 4.11,\n",
    "                 0.1 : 6.25,\n",
    "                 0.05 : 7.82,\n",
    "                 0.0001 : 100000},\n",
    "             4: {0.5 : 3.36,\n",
    "                 0.25 : 5.38,\n",
    "                 0.1 : 7.78,\n",
    "                 0.05 : 9.49,\n",
    "                 0.0001 : 100000},\n",
    "             5: {0.5 : 4.35,\n",
    "                 0.25 : 6.63,\n",
    "                 0.1 : 9.24,\n",
    "                 0.05 : 11.07,\n",
    "                 0.0001 : 100000},\n",
    "             6: {0.5 : 5.35,\n",
    "                 0.25 : 7.84,\n",
    "                 0.1 : 10.64,\n",
    "                 0.05 : 12.59,\n",
    "                 0.0001 : 100000},\n",
    "             7: {0.5 : 6.35,\n",
    "                 0.25 : 9.04,\n",
    "                 0.1 : 12.01,\n",
    "                 0.05 : 14.07,\n",
    "                 0.0001 : 100000},\n",
    "             8: {0.5 : 7.34,\n",
    "                 0.25 : 10.22,\n",
    "                 0.1 : 13.36,\n",
    "                 0.05 : 15.51,\n",
    "                 0.0001 : 100000},\n",
    "             9: {0.5 : 8.34,\n",
    "                 0.25 : 11.39,\n",
    "                 0.1 : 14.68,\n",
    "                 0.05 : 16.92,\n",
    "                 0.0001 : 100000},\n",
    "             10: {0.5 : 9.34,\n",
    "                  0.25 : 12.55,\n",
    "                  0.1 : 15.99,\n",
    "                  0.05 : 18.31,\n",
    "                  0.0001 : 100000},\n",
    "             11: {0.5 : 10.34,\n",
    "                  0.25 : 13.7,\n",
    "                  0.1 : 17.27,\n",
    "                  0.05 : 19.68,\n",
    "                  0.0001 : 100000}}"
   ]
  },
  {
   "cell_type": "code",
   "execution_count": 26,
   "metadata": {},
   "outputs": [
    {
     "data": {
      "image/png": "[encoded data removed]",
      "text/plain": [
       "<Figure size 1440x648 with 1 Axes>"
      ]
     },
     "metadata": {
      "needs_background": "light"
     },
     "output_type": "display_data"
    }
   ],
   "source": [
    "#### Your code here ####\n",
    "pruned_trees = []; pr_train_acc = []; pr_test_acc = []; x_vals = []\n",
    "pvals =  [0.0001, 0.05, 0.1, 0.25, 0.5, 1]; i = 0;\n",
    "for pval in pvals: #build the pruned trees:\n",
    "    pruned_trees.append(build_tree(data=X_train, impurity=calc_entropy, gain_ratio=True, chi = pval))\n",
    "    pr_train_acc.append(calc_accuracy(pruned_trees[i],X_train))\n",
    "    pr_test_acc.append(calc_accuracy(pruned_trees[i],X_test))\n",
    "    x_vals.append((pval,pruned_trees[i].root_height))\n",
    "    i+=1\n",
    "plt.figure(figsize =(20,9))\n",
    "plt.plot(pvals, pr_train_acc, label = \"Train accuracy\")\n",
    "plt.plot(pvals, pr_test_acc, label = \"Test accuracy\")\n",
    "plt.xticks(pvals,x_vals)\n",
    "plt.scatter(pvals[np.argmax(pr_test_acc)],np.max(pr_test_acc), color = 'r',label = \"Best tree\", linewidths = 20)\n",
    "plt.title(\"Accuracy as function of Xi square pruning\", fontsize= 15)\n",
    "plt.xlabel(\"(Pvals , Tree height)\",fontsize= 14)\n",
    "plt.ylabel(\"Accuracy[%]\", fontsize = 14)\n",
    "plt.legend()\n",
    "plt.grid()"
   ]
  },
  {
   "cell_type": "markdown",
   "metadata": {},
   "source": [
    "Build the best 2 trees:\n",
    "\n",
    "1. tree_post_pruning - the best tree according to post pruning\n",
    "2. tree_chi - the best tree according to chi square pruning"
   ]
  },
  {
   "cell_type": "code",
   "execution_count": 27,
   "metadata": {},
   "outputs": [],
   "source": [
    "#### Your code here ####\n",
    "tree_post_pruning = best_post_tree #getting already the best pruned tree from post prune function - so save running time!\n",
    "tree_chi = build_tree(data=X_train, impurity=calc_entropy, gain_ratio=True, chi = pvals[np.argmax(pr_test_acc)])"
   ]
  },
  {
   "cell_type": "markdown",
   "metadata": {},
   "source": [
    "## Number of Nodes\n",
    "\n",
    "Of the two trees above we will choose the one with fewer nodes. Complete the function counts_nodes and print the number of nodes in each tree. (5 points) "
   ]
  },
  {
   "cell_type": "code",
   "execution_count": 28,
   "metadata": {},
   "outputs": [],
   "source": [
    "def count_nodes(node):\n",
    "    \"\"\"\n",
    "    Count the number of node in a given tree\n",
    " \n",
    "    Input:\n",
    "    - node: a node in the decision tree.\n",
    " \n",
    "    Output: the number of node in the tree.\n",
    "    \"\"\"\n",
    "    ###########################################################################\n",
    "    # TODO: Implement the function.                                           #\n",
    "    ###########################################################################\n",
    "    counter = 0\n",
    "    for child in node.children:\n",
    "        counter+=count_nodes(child)\n",
    "    return counter+1\n",
    "    ###########################################################################\n",
    "    #                             END OF YOUR CODE                            #\n",
    "    ###########################################################################\n",
    "    "
   ]
  },
  {
   "cell_type": "code",
   "execution_count": 29,
   "metadata": {},
   "outputs": [
    {
     "name": "stdout",
     "output_type": "stream",
     "text": [
      "************************************************** \n",
      "\n",
      "Best Chi-square pruned tree has 45 Nodes\n",
      "\n",
      "************************************************** \n",
      "\n",
      "************************************************** \n",
      "\n",
      "Best post pruned tree has 44 Nodes\n",
      "\n",
      "************************************************** \n",
      "\n",
      "Gini tree has 3227 Nodes\n",
      "\n",
      "Entropy tree has 3231 Nodes\n",
      "\n",
      "Gain ratio tree has 3251 Nodes\n",
      "\n"
     ]
    }
   ],
   "source": [
    "print('*'*50,'\\n')\n",
    "print(\"Best Chi-square pruned tree has {0} Nodes\\n\".format(count_nodes(tree_chi)))\n",
    "print('*'*50,'\\n')\n",
    "print('*'*50,'\\n')\n",
    "print(\"Best post pruned tree has {0} Nodes\\n\".format(count_nodes(tree_post_pruning)))\n",
    "print('*'*50,'\\n')\n",
    "for a,b in zip([\"Gini\",\"Entropy\",\"Gain ratio\"],[count_nodes(tree_entropy),count_nodes(tree_gini), count_nodes(tree_entropy_gain_ratio)]):\n",
    "    print(\"{0} tree has {1} Nodes\\n\".format(a,b))"
   ]
  },
  {
   "cell_type": "code",
   "execution_count": 30,
   "metadata": {},
   "outputs": [],
   "source": [
    "min_nodes_tree = tree_chi if count_nodes(tree_chi) < count_nodes(tree_post_pruning) else tree_post_pruning #choosing the tree with fewer nodes"
   ]
  },
  {
   "cell_type": "markdown",
   "metadata": {},
   "source": [
    "## Print the tree\n",
    "\n",
    "Complete the function `print_tree` and execute it on your chosen tree. Your tree should be visualized clearly. You can use the following example as a reference:\n",
    "```\n",
    "[ROOT, feature=X0],\n",
    "  [X0=a, feature=X2]\n",
    "    [X2=c, leaf]: [{1.0: 10}]\n",
    "    [X2=d, leaf]: [{0.0: 10}]\n",
    "  [X0=y, feature=X5], \n",
    "    [X5=a, leaf]: [{1.0: 5}]\n",
    "    [X5=s, leaf]: [{0.0: 10}]\n",
    "  [X0=e, leaf]: [{0.0: 25, 1.0: 50}]\n",
    "```\n",
    "In each brackets:\n",
    "* The first argument is the parent feature with the value that led to current node\n",
    "* The second argument is the selected feature of the current node\n",
    "* If the current node is a leaf, you need to print also the labels and their counts\n",
    "\n",
    "(5 points)"
   ]
  },
  {
   "cell_type": "code",
   "execution_count": 31,
   "metadata": {},
   "outputs": [],
   "source": [
    "# you can change the function signeture\n",
    "def print_tree(node, depth=0, parent_feature='ROOT', feature_val='ROOT'):\n",
    "    '''\n",
    "    prints the tree according to the example above\n",
    "\n",
    "    Input:\n",
    "    - node: a node in the decision tree\n",
    "\n",
    "    This function has no return value\n",
    "    '''\n",
    "    ###########################################################################\n",
    "    # TODO: Implement the function.                                           #\n",
    "    ###########################################################################\n",
    "    if len(node.children) < 1: #hence, a leaf\n",
    "        clasfi, nums = np.unique(node.data.to_numpy()[:,-1], return_counts=True)\n",
    "        if clasfi.size < 2:\n",
    "            print('  '*depth,\" [X\",parent_feature,\"=\",feature_val,\", leaf]: [{\",clasfi[0],\": \",nums[0],\"}]\",sep='')\n",
    "        else:\n",
    "            print('  '*depth,\" [X\",parent_feature,\"=\",feature_val,\", leaf]: [{\",clasfi[0],\": \",nums[0],\", \",clasfi[1],\": \",nums[1],\"}]\",sep='')\n",
    "\n",
    "    else:\n",
    "        if parent_feature=='ROOT':\n",
    "            print('  '*depth,'[ROOT, feature=X{0}],'.format(node.feature))\n",
    "        else:\n",
    "            print('  '*depth,'[X{0}={1}, feature=X{2}],'.format(parent_feature,feature_val,node.feature))\n",
    "    \n",
    "    for child in node.children:\n",
    "        print_tree(child, child.depth, node.feature, child.feature_val)\n",
    "        \n",
    "    ###########################################################################\n",
    "    #                             END OF YOUR CODE                            #\n",
    "    ###########################################################################"
   ]
  },
  {
   "cell_type": "code",
   "execution_count": 32,
   "metadata": {},
   "outputs": [
    {
     "name": "stdout",
     "output_type": "stream",
     "text": [
      " [ROOT, feature=X4],\n",
      "   [X4=a, leaf]: [{e: 273, p: 31}]\n",
      "   [X4=c, leaf]: [{e: 10, p: 137}]\n",
      "   [X4=f, leaf]: [{e: 170, p: 1438}]\n",
      "   [X4=l, feature=X1],\n",
      "     [X1=f, leaf]: [{e: 19, p: 1}]\n",
      "     [X1=s, feature=X2],\n",
      "       [X2=w, feature=X18],\n",
      "         [X18=k, feature=X0],\n",
      "           [X0=b, leaf]: [{e: 12, p: 2}]\n",
      "           [X0=x, feature=X8],\n",
      "             [X8=g, leaf]: [{e: 3}]\n",
      "             [X8=k, feature=X19],\n",
      "               [X19=n, leaf]: [{e: 1}]\n",
      "               [X19=s, leaf]: [{p: 1}]\n",
      "             [X8=n, feature=X20],\n",
      "               [X20=g, leaf]: [{e: 1}]\n",
      "               [X20=m, leaf]: [{p: 1}]\n",
      "             [X8=w, leaf]: [{e: 1, p: 1}]\n",
      "         [X18=n, leaf]: [{e: 27, p: 6}]\n",
      "         [X18=u, leaf]: [{e: 5}]\n",
      "       [X2=y, leaf]: [{e: 44, p: 5}]\n",
      "     [X1=y, leaf]: [{e: 159, p: 10}]\n",
      "   [X4=m, feature=X0],\n",
      "     [X0=f, feature=X5],\n",
      "       [X5=a, leaf]: [{p: 5}]\n",
      "       [X5=f, feature=X2],\n",
      "         [X2=c, leaf]: [{e: 1}]\n",
      "         [X2=e, leaf]: [{p: 2}]\n",
      "         [X2=n, leaf]: [{p: 1}]\n",
      "     [X0=k, leaf]: [{e: 1, p: 10}]\n",
      "     [X0=x, leaf]: [{p: 7}]\n",
      "   [X4=n, feature=X7],\n",
      "     [X7=b, leaf]: [{e: 2197, p: 286}]\n",
      "     [X7=n, feature=X3],\n",
      "       [X3=f, feature=X10],\n",
      "         [X10=f, leaf]: [{e: 17, p: 3}]\n",
      "         [X10=k, leaf]: [{p: 25}]\n",
      "         [X10=s, leaf]: [{e: 118, p: 15}]\n",
      "         [X10=y, leaf]: [{p: 7}]\n",
      "       [X3=t, leaf]: [{p: 8}]\n",
      "   [X4=p, leaf]: [{e: 8, p: 175}]\n",
      "   [X4=s, leaf]: [{e: 38, p: 380}]\n",
      "   [X4=y, leaf]: [{e: 49, p: 382}]\n"
     ]
    }
   ],
   "source": [
    "print_tree(min_nodes_tree)"
   ]
  }
 ],
 "metadata": {
  "celltoolbar": "Create Assignment",
  "kernelspec": {
   "display_name": "Python 3",
   "language": "python",
   "name": "python3"
  },
  "language_info": {
   "codemirror_mode": {
    "name": "ipython",
    "version": 3
   },
   "file_extension": ".py",
   "mimetype": "text/x-python",
   "name": "python",
   "nbconvert_exporter": "python",
   "pygments_lexer": "ipython3",
   "version": "3.8.3"
  }
 },
 "nbformat": 4,
 "nbformat_minor": 2
}
